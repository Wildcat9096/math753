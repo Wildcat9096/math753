{
 "cells": [
  {
   "cell_type": "markdown",
   "metadata": {},
   "source": [
    "# Strings, loops, conditionals, and functions"
   ]
  },
  {
   "cell_type": "markdown",
   "metadata": {},
   "source": [
    "## Strings\n",
    "\n",
    "The Julia `String` class represents sequences of characters. Julia uses a [Unicode](https://en.wikipedia.org/wiki/Unicode) character set that includes the characters from most of the world's languages and a large number of other symbols (math and emoticons, for example). See the [Julia string documentation](https://docs.julialang.org/en/stable/manual/strings.html) for more than the bare minimum presented here. \n",
    "\n",
    "\n",
    "### String initialization"
   ]
  },
  {
   "cell_type": "code",
   "execution_count": 4,
   "metadata": {},
   "outputs": [
    {
     "data": {
      "text/plain": [
       "\"foo\""
      ]
     },
     "execution_count": 4,
     "metadata": {},
     "output_type": "execute_result"
    }
   ],
   "source": [
    "s = \"foo\"     # assign the string \"foo\" to variable s"
   ]
  },
  {
   "cell_type": "code",
   "execution_count": 6,
   "metadata": {},
   "outputs": [
    {
     "data": {
      "text/plain": [
       "\"α β γ\""
      ]
     },
     "execution_count": 6,
     "metadata": {},
     "output_type": "execute_result"
    }
   ],
   "source": [
    "s = \"α β γ\"   # typed as \"\\alpha<TAB> \\beta<TAB> \\gamma<TAB>\""
   ]
  },
  {
   "cell_type": "code",
   "execution_count": 7,
   "metadata": {},
   "outputs": [
    {
     "data": {
      "text/plain": [
       "\"∀ x ∃ y\""
      ]
     },
     "execution_count": 7,
     "metadata": {},
     "output_type": "execute_result"
    }
   ],
   "source": [
    "s = \"\\u2200 x \\u2203 y\"   # Unicode for \"for all x there exists a y\""
   ]
  },
  {
   "cell_type": "markdown",
   "metadata": {},
   "source": [
    "### String interpolation\n",
    "\n",
    "String interpolation means substituting a value into a string. For example,"
   ]
  },
  {
   "cell_type": "code",
   "execution_count": 14,
   "metadata": {},
   "outputs": [
    {
     "data": {
      "text/plain": [
       "\"The value of π is approximately 3.141592653589793\""
      ]
     },
     "execution_count": 14,
     "metadata": {},
     "output_type": "execute_result"
    }
   ],
   "source": [
    "x = Float64(π)\n",
    "s = \"The value of π is approximately $x\""
   ]
  },
  {
   "cell_type": "markdown",
   "metadata": {},
   "source": [
    "### String concatentation\n",
    "\n",
    "Julia (unusually) uses `*` for string concatenation. Most languages use `+`, but `+` is typically indicates a commutative operation, and Julia strives for mathemtical purity. "
   ]
  },
  {
   "cell_type": "code",
   "execution_count": 8,
   "metadata": {},
   "outputs": [
    {
     "data": {
      "text/plain": [
       "\"foobar\""
      ]
     },
     "execution_count": 8,
     "metadata": {},
     "output_type": "execute_result"
    }
   ],
   "source": [
    "s = \"foo\" * \"bar\""
   ]
  },
  {
   "cell_type": "markdown",
   "metadata": {},
   "source": [
    "## The for loop\n",
    "\n",
    "The `for` loop is the essential iteration construct. "
   ]
  },
  {
   "cell_type": "code",
   "execution_count": 15,
   "metadata": {},
   "outputs": [
    {
     "name": "stdout",
     "output_type": "stream",
     "text": [
      "The value of n is 1\n",
      "The value of n is 2\n",
      "The value of n is 3\n",
      "The value of n is 4\n",
      "The value of n is 5\n"
     ]
    }
   ],
   "source": [
    "for n in 1:5\n",
    "    println(\"The value of n is $n\")\n",
    "end"
   ]
  },
  {
   "cell_type": "markdown",
   "metadata": {},
   "source": [
    "Nested loops are very common"
   ]
  },
  {
   "cell_type": "code",
   "execution_count": 21,
   "metadata": {},
   "outputs": [
    {
     "name": "stdout",
     "output_type": "stream",
     "text": [
      "3 × 7 == 21\n",
      "3 × 8 == 24\n",
      "3 × 9 == 27\n",
      "4 × 7 == 28\n",
      "4 × 8 == 32\n",
      "4 × 9 == 36\n",
      "5 × 7 == 35\n",
      "5 × 8 == 40\n",
      "5 × 9 == 45\n"
     ]
    }
   ],
   "source": [
    "for m in 3:5\n",
    "    for n in 7:9\n",
    "        println(\"$m × $n == $(m*n)\")   # the × character is entered as \\times<TAB>\n",
    "    end \n",
    "end"
   ]
  },
  {
   "cell_type": "markdown",
   "metadata": {},
   "source": [
    "Julia has a nice compact syntax for nested loops."
   ]
  },
  {
   "cell_type": "code",
   "execution_count": 20,
   "metadata": {},
   "outputs": [
    {
     "name": "stdout",
     "output_type": "stream",
     "text": [
      "3 × 7 == 21\n",
      "3 × 8 == 24\n",
      "3 × 9 == 27\n",
      "4 × 7 == 28\n",
      "4 × 8 == 32\n",
      "4 × 9 == 36\n",
      "5 × 7 == 35\n",
      "5 × 8 == 40\n",
      "5 × 9 == 45\n"
     ]
    }
   ],
   "source": [
    "for m in 3:5, n in 7:9\n",
    "    println(\"$m × $n == $(m*n)\")\n",
    "end"
   ]
  },
  {
   "cell_type": "markdown",
   "metadata": {},
   "source": [
    "## while loop"
   ]
  },
  {
   "cell_type": "markdown",
   "metadata": {},
   "source": [
    "## if-else-then"
   ]
  },
  {
   "cell_type": "markdown",
   "metadata": {},
   "source": [
    "## short-circuit conditionals"
   ]
  },
  {
   "cell_type": "code",
   "execution_count": null,
   "metadata": {
    "collapsed": true
   },
   "outputs": [],
   "source": []
  }
 ],
 "metadata": {
  "kernelspec": {
   "display_name": "Julia 0.6.0",
   "language": "julia",
   "name": "julia-0.6"
  },
  "language_info": {
   "file_extension": ".jl",
   "mimetype": "application/julia",
   "name": "julia",
   "version": "0.6.0"
  }
 },
 "nbformat": 4,
 "nbformat_minor": 2
}
