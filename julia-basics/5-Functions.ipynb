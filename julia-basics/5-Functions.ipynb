{
 "cells": [
  {
   "cell_type": "markdown",
   "metadata": {},
   "source": [
    "# Functions\n",
    "\n",
    "## Defining functions\n",
    "\n",
    "Julia provides three main ways to define functions, illustrated here for $f(x) = 2x + 3$. "
   ]
  },
  {
   "cell_type": "code",
   "execution_count": 2,
   "metadata": {
    "collapsed": false
   },
   "outputs": [
    {
     "data": {
      "text/plain": [
       "f (generic function with 1 method)"
      ]
     },
     "execution_count": 2,
     "metadata": {},
     "output_type": "execute_result"
    }
   ],
   "source": [
    "# Simple syntax for one-line functions\n",
    "f(x) = 2x + 3"
   ]
  },
  {
   "cell_type": "code",
   "execution_count": 3,
   "metadata": {
    "collapsed": false
   },
   "outputs": [
    {
     "data": {
      "text/plain": [
       "g (generic function with 1 method)"
      ]
     },
     "execution_count": 3,
     "metadata": {},
     "output_type": "execute_result"
    }
   ],
   "source": [
    "# Traditional function-definition syntax. \n",
    "function g(x) \n",
    "    2x + 3\n",
    "end"
   ]
  },
  {
   "cell_type": "code",
   "execution_count": 4,
   "metadata": {
    "collapsed": false
   },
   "outputs": [
    {
     "data": {
      "text/plain": [
       "(::#1) (generic function with 1 method)"
      ]
     },
     "execution_count": 4,
     "metadata": {},
     "output_type": "execute_result"
    }
   ],
   "source": [
    "# Anonymous function syntax\n",
    "h = x -> 2x+3"
   ]
  },
  {
   "cell_type": "markdown",
   "metadata": {},
   "source": [
    "Note the lack of an explicit return statement in all these definitions. In Julia, the return value of a function is the last value calculated, here 2x+3."
   ]
  },
  {
   "cell_type": "markdown",
   "metadata": {},
   "source": [
    "## Multiple return values, default arguments, etc.\n",
    "\n",
    "Some examples..."
   ]
  },
  {
   "cell_type": "code",
   "execution_count": 5,
   "metadata": {
    "collapsed": false
   },
   "outputs": [
    {
     "data": {
      "text/plain": [
       "5"
      ]
     },
     "execution_count": 5,
     "metadata": {},
     "output_type": "execute_result"
    }
   ],
   "source": [
    "# A function taking two arguments\n",
    "function foo(x,y) \n",
    "    x+y\n",
    "end\n",
    "\n",
    "foo(2,3)"
   ]
  },
  {
   "cell_type": "code",
   "execution_count": 6,
   "metadata": {
    "collapsed": false
   },
   "outputs": [
    {
     "data": {
      "text/plain": [
       "(-1.0, 1.2246467991473532e-16, Irrational{:π})"
      ]
     },
     "execution_count": 6,
     "metadata": {},
     "output_type": "execute_result"
    }
   ],
   "source": [
    "# A function returning three values\n",
    "function bar(x) \n",
    "    c = cos(x)\n",
    "    s = sin(x)\n",
    "    t = typeof(x)\n",
    "    c, s, t\n",
    "end\n",
    "bar(π)"
   ]
  },
  {
   "cell_type": "code",
   "execution_count": 7,
   "metadata": {
    "collapsed": false
   },
   "outputs": [
    {
     "data": {
      "text/plain": [
       "(-1.0, 1.2246467991473532e-16, Irrational{:π})"
      ]
     },
     "execution_count": 7,
     "metadata": {},
     "output_type": "execute_result"
    }
   ],
   "source": [
    "# catching the multiple return values in separate variables\n",
    "# x will have value -1.0, y will have value 1.22e-16, etc.\n",
    "x,y,z = bar(π)"
   ]
  },
  {
   "cell_type": "code",
   "execution_count": 8,
   "metadata": {
    "collapsed": false
   },
   "outputs": [
    {
     "data": {
      "text/plain": [
       "1.2246467991473532e-16"
      ]
     },
     "execution_count": 8,
     "metadata": {},
     "output_type": "execute_result"
    }
   ],
   "source": [
    "y"
   ]
  },
  {
   "cell_type": "code",
   "execution_count": 9,
   "metadata": {
    "collapsed": false
   },
   "outputs": [
    {
     "data": {
      "text/plain": [
       "5.0"
      ]
     },
     "execution_count": 9,
     "metadata": {},
     "output_type": "execute_result"
    }
   ],
   "source": [
    "# A function that uses the return keyword\n",
    "function hypot(x,y)\n",
    "    x = abs(x)\n",
    "    y = abs(y)\n",
    "    if x > y\n",
    "        r = y/x\n",
    "        return x*sqrt(1+r*r)\n",
    "    end          \n",
    "    if y == 0\n",
    "        return zero(x)\n",
    "    end\n",
    "    r = x/y\n",
    "    return y*sqrt(1+r*r)\n",
    "end\n",
    "\n",
    "hypot(3,4)"
   ]
  },
  {
   "cell_type": "code",
   "execution_count": 11,
   "metadata": {
    "collapsed": false
   },
   "outputs": [
    {
     "data": {
      "text/plain": [
       "8"
      ]
     },
     "execution_count": 11,
     "metadata": {},
     "output_type": "execute_result"
    }
   ],
   "source": [
    "# Define an operator (type \\otimes<TAB>)\n",
    "function ⊗(x,y)\n",
    "    3x-y\n",
    "end\n",
    "\n",
    "3 ⊗ 1"
   ]
  },
  {
   "cell_type": "code",
   "execution_count": 12,
   "metadata": {
    "collapsed": false
   },
   "outputs": [
    {
     "data": {
      "text/plain": [
       "(16, 106)"
      ]
     },
     "execution_count": 12,
     "metadata": {},
     "output_type": "execute_result"
    }
   ],
   "source": [
    "# A function with an optional argument\n",
    "function fuz(x, y=10)\n",
    "    3x+y\n",
    "end\n",
    "fuz(2), fuz(2,100)"
   ]
  },
  {
   "cell_type": "markdown",
   "metadata": {},
   "source": [
    "## Functions are first-class objects\n",
    "\n",
    "In Julia, functions are \"first-class objects\", that is, like any other Julia objects (numbers, strings, etc.) they can be created at run-time, assigned to variables, passed as arguments to other functions or as return values from other functions, and so on. This allows you to do things that would practically impossible in many other languages. A few examples."
   ]
  },
  {
   "cell_type": "code",
   "execution_count": 13,
   "metadata": {
    "collapsed": false
   },
   "outputs": [
    {
     "data": {
      "text/plain": [
       "7"
      ]
     },
     "execution_count": 13,
     "metadata": {},
     "output_type": "execute_result"
    }
   ],
   "source": [
    "# Assigning one function to another (recall that f(x) = 2x+3)\n",
    "q = f\n",
    "q(2)"
   ]
  },
  {
   "cell_type": "code",
   "execution_count": 14,
   "metadata": {
    "collapsed": false
   },
   "outputs": [
    {
     "name": "stdout",
     "output_type": "stream",
     "text": [
      "f(2) == 7\n",
      "g(2) == 7\n",
      "#1(2) == 7\n",
      "bar(2) == (-0.4161468365471424, 0.9092974268256817, Int64)\n"
     ]
    }
   ],
   "source": [
    "# make a list (tuple) of functions and iterate over them\n",
    "F = (f, g, h, bar)\n",
    "\n",
    "for e in F\n",
    "    println(\"$e(2) == $(e(2))\")\n",
    "end"
   ]
  },
  {
   "cell_type": "code",
   "execution_count": 15,
   "metadata": {
    "collapsed": false
   },
   "outputs": [
    {
     "data": {
      "text/plain": [
       "9"
      ]
     },
     "execution_count": 15,
     "metadata": {},
     "output_type": "execute_result"
    }
   ],
   "source": [
    "# Get the second function in the list F and apply it to x=3\n",
    "F[2](3)"
   ]
  },
  {
   "cell_type": "code",
   "execution_count": 16,
   "metadata": {
    "collapsed": false
   },
   "outputs": [
    {
     "data": {
      "text/plain": [
       "21"
      ]
     },
     "execution_count": 16,
     "metadata": {},
     "output_type": "execute_result"
    }
   ],
   "source": [
    "# Define a function as the second iterate of another\n",
    "f²(x) = f(f(x))\n",
    "f²(3)"
   ]
  },
  {
   "cell_type": "code",
   "execution_count": 17,
   "metadata": {
    "collapsed": false
   },
   "outputs": [
    {
     "data": {
      "text/plain": [
       "0.02985876619875693"
      ]
     },
     "execution_count": 17,
     "metadata": {},
     "output_type": "execute_result"
    }
   ],
   "source": [
    "# Define a function that returns the Nth iterate fᴺ of function f\n",
    "function iterator(f, N)\n",
    "  \n",
    "    # construct Nth iterate function fN\n",
    "    function fN(x)\n",
    "        for n = 1:N\n",
    "            x = f(x)\n",
    "        end\n",
    "        return x\n",
    "    end\n",
    "    \n",
    "    return fN   # return function fN\n",
    "end\n",
    "\n",
    "# Produce N=100 iterating function for logistic map f(x) = 4x(1-x)\n",
    "fᴺ = iterator(x -> 4x*(1-x), 100)\n",
    "\n",
    "# Evaluate on x=2/3\n",
    "fᴺ(2/3)"
   ]
  },
  {
   "cell_type": "markdown",
   "metadata": {},
   "source": [
    "# Problems\n",
    "\n",
    "*adapted from David Sanders' [Hands-on Julia](https://github.com/dpsanders/hands_on_julia) and Chris Rackauckas's [Intro to Julia](http://ucidatascienceinitiative.github.io/IntroToJulia/) notebooks.*"
   ]
  },
  {
   "cell_type": "markdown",
   "metadata": {},
   "source": [
    "**Problem 1:** Define a function $f(x) = (x+1)(x-2)$ and another function $g(x)$ which is $f(x)$ expanded to a three-term polynomial. Then define a third function `same(x)` that returns `true` if $f$ and $g$ evaluate to the same number for the same value of $x$, and `false` if they don't. Evaluate `same(x)` for a few values of $x$."
   ]
  },
  {
   "cell_type": "code",
   "execution_count": null,
   "metadata": {
    "collapsed": true
   },
   "outputs": [],
   "source": []
  },
  {
   "cell_type": "markdown",
   "metadata": {},
   "source": [
    "**Problem 2:** Can you find values of $x$ for which `same(x)` is `false`? Can you explain your results? If `same(x)` is always `true`, why? If it's not, what's special about the values of $x$ for which `same(x)` is `false`?"
   ]
  },
  {
   "cell_type": "code",
   "execution_count": null,
   "metadata": {
    "collapsed": true
   },
   "outputs": [],
   "source": []
  },
  {
   "cell_type": "markdown",
   "metadata": {},
   "source": [
    "**Problem 3:** (This is a classic!) Write a `my_factorial(n)` that computes the factorial function $n!$. Check it against Julia's built-in `factorial` function for n=19, 20, and 21. What goes wrong?"
   ]
  },
  {
   "cell_type": "code",
   "execution_count": null,
   "metadata": {
    "collapsed": true
   },
   "outputs": [],
   "source": []
  },
  {
   "cell_type": "markdown",
   "metadata": {},
   "source": [
    "**Problem 4:** Try running `my_factorial` and `factorial` on a `BigInt` value of 21. Do they both work and give the same value? If not, can you fix up `myfactorial` so it does?"
   ]
  },
  {
   "cell_type": "code",
   "execution_count": null,
   "metadata": {
    "collapsed": true
   },
   "outputs": [],
   "source": []
  },
  {
   "cell_type": "markdown",
   "metadata": {},
   "source": [
    "**Problem 5:** Compare the execution speed of `my_factorial` versus `factorial` on an `Int64` value n=19 , using the `@time` macro. E.g. "
   ]
  },
  {
   "cell_type": "code",
   "execution_count": null,
   "metadata": {
    "collapsed": true
   },
   "outputs": [],
   "source": [
    "@time factorial(19)\n",
    "@time myfactorial(19)"
   ]
  },
  {
   "cell_type": "markdown",
   "metadata": {},
   "source": [
    "How do the times compare? Did you expect this, or not? Explain."
   ]
  },
  {
   "cell_type": "markdown",
   "metadata": {},
   "source": [
    "**Problem 6:** Compare the execution speed of `my_factorial` versus `factorial` on an `BigInt` value n=50 , using the `@time` macro. How do the times compare? Did you expect this? Can you explain? "
   ]
  },
  {
   "cell_type": "code",
   "execution_count": null,
   "metadata": {
    "collapsed": true
   },
   "outputs": [],
   "source": []
  }
 ],
 "metadata": {
  "kernelspec": {
   "display_name": "Julia 0.6.0",
   "language": "julia",
   "name": "julia-0.6"
  },
  "language_info": {
   "file_extension": ".jl",
   "mimetype": "application/julia",
   "name": "julia",
   "version": "0.6.0"
  }
 },
 "nbformat": 4,
 "nbformat_minor": 2
}
