{
 "cells": [
  {
   "cell_type": "markdown",
   "metadata": {},
   "source": [
    "# What makes Julia special\n",
    "\n",
    "Julia's key attraction is that it's a dynamic, interactive language that runs as fast as C or Fortran. How does this work? How does Julia achieve these seemingly contradictory goals when other languages have not? The answer is \n",
    "\n",
    "  * **A strict type system**\n",
    "  * **Type inference** (Julia figures out the types of variables)\n",
    "  * **Multiple dispatch** (Julia makes multiple versions of the same function for different argument types)\n",
    "  * **Just-in-time compilation** (Julia compiles the different functions to machine code at run time)\n",
    "\n",
    "Other languages like Java and some versions of Python have just-in-time (JIT) compilation, which in some cases can result in dynamic user code running as fast as compiled code. But JIT is an afterthought to those languages, and it often can't be applied. Julia was designed from the ground up to make JIT work whenever possible. "
   ]
  },
  {
   "cell_type": "markdown",
   "metadata": {},
   "source": [
    "## Just-in-time compilation\n",
    "\n",
    "Just-in-time compilation is the run-time transformation of high-level code (the kind of code people write) to machine code (the low-level instructions that computer chips understand). To see how this works in Julia, let's define a simple function $f(x) = 4x(1-x)$ (the logistic map) and transform it in stages to machine code. "
   ]
  },
  {
   "cell_type": "code",
   "execution_count": 1,
   "metadata": {
    "scrolled": true
   },
   "outputs": [
    {
     "data": {
      "text/plain": [
       "f (generic function with 1 method)"
      ]
     },
     "execution_count": 1,
     "metadata": {},
     "output_type": "execute_result"
    }
   ],
   "source": [
    "function f(x) \n",
    "    4x*(1-x)\n",
    "end"
   ]
  },
  {
   "cell_type": "markdown",
   "metadata": {},
   "source": [
    "How fast does this function run? Find out with the `@time` macro"
   ]
  },
  {
   "cell_type": "code",
   "execution_count": 2,
   "metadata": {},
   "outputs": [
    {
     "name": "stdout",
     "output_type": "stream",
     "text": [
      "  0.002432 seconds (484 allocations: 29.433 KiB)\n",
      "  0.000001 seconds (5 allocations: 176 bytes)\n"
     ]
    },
    {
     "data": {
      "text/plain": [
       "0.84"
      ]
     },
     "execution_count": 2,
     "metadata": {},
     "output_type": "execute_result"
    }
   ],
   "source": [
    "@time f(0.3)\n",
    "@time f(0.3)"
   ]
  },
  {
   "cell_type": "markdown",
   "metadata": {},
   "source": [
    "Whoa! The first run is three thousand times slower than the second! Why? It's because Julia compiles `f` to machine code during its first execution. This happens in four steps which we can examine using Julia's *code introspection macros*.\n",
    "\n",
    "### 1. Transformation of user code to  abstract syntax tree\n",
    "\n",
    "**@code_lowered** shows the *abstract syntax tree* (AST) for `f(x) = 4x(1-x)`. This is a computer-friendly representation of same high-level function but with all the implicit steps spelled out explicitly, e.g. the implicit multiplication in `4x` gets turned into the more explicit `4*x`."
   ]
  },
  {
   "cell_type": "code",
   "execution_count": 3,
   "metadata": {},
   "outputs": [
    {
     "data": {
      "text/plain": [
       "CodeInfo(:(begin \n",
       "        nothing\n",
       "        return (4 * x) * (1 - x)\n",
       "    end))"
      ]
     },
     "execution_count": 3,
     "metadata": {},
     "output_type": "execute_result"
    }
   ],
   "source": [
    "@code_lowered(f(1.0))"
   ]
  },
  {
   "cell_type": "markdown",
   "metadata": {},
   "source": [
    "### 2. Specification of types"
   ]
  },
  {
   "cell_type": "markdown",
   "metadata": {},
   "source": [
    "**`@code_typed`** further breaks down the abstract syntax tree by specifying *exactly which operations to execute for for a particular argument type*, here `Float64`. This is an importasnt step because computer chips execute floating-point and integer arithmetic with different hardware. "
   ]
  },
  {
   "cell_type": "code",
   "execution_count": 4,
   "metadata": {},
   "outputs": [
    {
     "data": {
      "text/plain": [
       "CodeInfo(:(begin \n",
       "        return (Base.mul_float)((Base.mul_float)((Base.sitofp)(Float64, 4)::Float64, x)::Float64, (Base.sub_float)((Base.sitofp)(Float64, 1)::Float64, x)::Float64)::Float64\n",
       "    end))=>Float64"
      ]
     },
     "execution_count": 4,
     "metadata": {},
     "output_type": "execute_result"
    }
   ],
   "source": [
    "@code_typed(f(1.0))"
   ]
  },
  {
   "cell_type": "markdown",
   "metadata": {},
   "source": [
    "The output of @code_typed is not easy to read, but you can see two multiplications (Base.mul_float) and one subtraction (Base.sub_float), which makes sense for f(x) = 4x(1-x)."
   ]
  },
  {
   "cell_type": "markdown",
   "metadata": {},
   "source": [
    "### 3. Transformation to intermediate compiler language\n",
    "\n",
    "**@code_llvm** further transforms the AST into an `intermediate compiler language` for the LLVM compiler. Intermediate compiler languages (also called `assembly languages`) are a sort of generic representation of the very lowest-level machine code, just one step of away from the hardware instructions that run on particular chips."
   ]
  },
  {
   "cell_type": "code",
   "execution_count": 5,
   "metadata": {},
   "outputs": [
    {
     "name": "stdout",
     "output_type": "stream",
     "text": [
      "\n",
      "define double @julia_f_61004(double) #0 !dbg !5 {\n",
      "top:\n",
      "  %1 = fmul double %0, 4.000000e+00\n",
      "  %2 = fsub double 1.000000e+00, %0\n",
      "  %3 = fmul double %1, %2\n",
      "  ret double %3\n",
      "}\n"
     ]
    }
   ],
   "source": [
    "@code_llvm(f(1.0))"
   ]
  },
  {
   "cell_type": "markdown",
   "metadata": {},
   "source": [
    "With a little scrutiny you can see below that calculation of `f(x) = 4x(1-x)` above in four steps: \n",
    "  * multiply `%0` (the function argument `x`) by 4, then save in `%1` (`%1 = 4x`)\n",
    "  * subtract `%0` from 1, save in `%2` (`%2 = 1-x`)\n",
    "  * multiply `%1` and `%2`, save in `%3` (`%3x = 4x(1-x)`)\n",
    "  * return `%3`\n",
    " \n",
    "Note that the arithmetic operations are specified for the particular numeric type: `fmul double` means \"floating-point multiplication, double precision\". This corresponds to a particular hardware instruction."
   ]
  },
  {
   "cell_type": "markdown",
   "metadata": {},
   "source": [
    "### 4.  Transformation to machine code\n",
    "\n",
    "**@code_native** performs the final transformation of the intermediate compiler language to *machine code*, that is a set of instructions for you particular chipset that are executed directly in hardware."
   ]
  },
  {
   "cell_type": "code",
   "execution_count": 6,
   "metadata": {},
   "outputs": [
    {
     "name": "stdout",
     "output_type": "stream",
     "text": [
      "\t.text\n",
      "Filename: In[1]\n",
      "\tpushq\t%rbp\n",
      "\tmovq\t%rsp, %rbp\n",
      "\tmovabsq\t$140717366775464, %rax  # imm = 0x7FFB50A90EA8\n",
      "\tmovabsq\t$140717366775472, %rcx  # imm = 0x7FFB50A90EB0\n",
      "Source line: 2\n",
      "\tmovsd\t(%rcx), %xmm1           # xmm1 = mem[0],zero\n",
      "\tsubsd\t%xmm0, %xmm1\n",
      "\tmulsd\t(%rax), %xmm0\n",
      "\tmulsd\t%xmm1, %xmm0\n",
      "\tpopq\t%rbp\n",
      "\tretq\n",
      "\tnopw\t(%rax,%rax)\n"
     ]
    }
   ],
   "source": [
    "@code_native(f(1.0))"
   ]
  },
  {
   "cell_type": "code",
   "execution_count": null,
   "metadata": {
    "collapsed": true
   },
   "outputs": [],
   "source": []
  }
 ],
 "metadata": {
  "kernelspec": {
   "display_name": "Julia 0.6.0",
   "language": "julia",
   "name": "julia-0.6"
  },
  "language_info": {
   "file_extension": ".jl",
   "mimetype": "application/julia",
   "name": "julia",
   "version": "0.6.0"
  }
 },
 "nbformat": 4,
 "nbformat_minor": 1
}
