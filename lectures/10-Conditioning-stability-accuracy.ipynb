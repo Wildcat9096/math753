{
 "cells": [
  {
   "cell_type": "markdown",
   "metadata": {},
   "source": [
    "# Conditioning, stability, and accuracy\n",
    "\n",
    "Understanding why some numerical calculations go awry. \n",
    "\n"
   ]
  },
  {
   "cell_type": "markdown",
   "metadata": {},
   "source": [
    "## A problematic problem\n",
    "\n",
    "Problem 5 from the homework asks for the root of $f(x) = x^3 - 2x^2 + 4x/3 - 8/27$. Let's investigate this problem with the secant method (repeated here from the previous lecture). "
   ]
  },
  {
   "cell_type": "code",
   "execution_count": 1,
   "metadata": {},
   "outputs": [
    {
     "data": {
      "text/plain": [
       "secantsearch (generic function with 2 methods)"
      ]
     },
     "execution_count": 1,
     "metadata": {},
     "output_type": "execute_result"
    }
   ],
   "source": [
    "function secantsearch(f, a::AbstractFloat, b::AbstractFloat, diagnostics=false) \n",
    "# return solution x of f(x) == 0, with a,b serving as initial guesses\n",
    "    \n",
    "    fa = f(a)           # cache values of f(a), f(b)     \n",
    "    fb = f(b)\n",
    "    \n",
    "    # set c to better of a,b (and fc, too)\n",
    "    c,fc = abs(fa) < abs(fb) ? (a,fa) : (b,fb)\n",
    "    \n",
    "    floattype = typeof((a+b)/2) # this'll eval to bigger of a,b types\n",
    "    ϵ = eps(floattype)  # machine epsilon\n",
    "    n = 1               # iteration count\n",
    "    N = 1024            # max iterations\n",
    "    \n",
    "    # start vector for storing root iterates xₙ, assign x₁ = c\n",
    "    x = zeros(floattype, 1)\n",
    "    x[1] = c\n",
    "    \n",
    "    # stop when f(c) is small, |b-a| is small relative to a and b\n",
    "    # or when we reach maximium number of iterations\n",
    "    while abs(fc) > 10ϵ && abs(b-a)/(abs(a)+abs(b)) > 10ϵ && n < N\n",
    "    \n",
    "        # compute new values for c, fc by secant approximation\n",
    "        c = a - fa*(b-a)/(fb-fa)\n",
    "        fc = f(c)\n",
    "        \n",
    "        # print diagnostics if they're turned on\n",
    "        diagnostics && println(\"n = $n, c = $c, f(c) = $(f(c))\")\n",
    "        \n",
    "        # error and exit if f(c) is bigger than both f(a) and f(b)\n",
    "        if abs(fc) > abs(fa) && abs(fc) > abs(fb)\n",
    "            println(\"secantsearch error: f(c) is bigger than f(a), f(b)\")\n",
    "            break # break out of while loop, don't store bad value c\n",
    "        end\n",
    "        \n",
    "        # replace whichever of a, b has bigger f(a), f(b)\n",
    "        if abs(fa) > abs(fb)\n",
    "            a,fa = c,fc\n",
    "        else\n",
    "            b,fb = c,fc\n",
    "        end      \n",
    "        \n",
    "        # store c in x, then increment iteration counter\n",
    "        push!(x,c)   \n",
    "        n += 1\n",
    "    end\n",
    "    \n",
    "    # return c and vector x\n",
    "    c, x\n",
    "    \n",
    "end"
   ]
  },
  {
   "cell_type": "code",
   "execution_count": 2,
   "metadata": {},
   "outputs": [
    {
     "data": {
      "text/plain": [
       "f (generic function with 1 method)"
      ]
     },
     "execution_count": 2,
     "metadata": {},
     "output_type": "execute_result"
    }
   ],
   "source": [
    "f(x) = x.^3 - 2x.^2 + 4/3*x - 8/27"
   ]
  },
  {
   "cell_type": "code",
   "execution_count": 6,
   "metadata": {},
   "outputs": [
    {
     "data": {
      "text/plain": [
       "(-0.2962962962962963, 2.3703703703703702)"
      ]
     },
     "execution_count": 6,
     "metadata": {},
     "output_type": "execute_result"
    }
   ],
   "source": [
    "f(0), f(2)"
   ]
  },
  {
   "cell_type": "code",
   "execution_count": 7,
   "metadata": {},
   "outputs": [
    {
     "name": "stdout",
     "output_type": "stream",
     "text": [
      "n = 1, c = 0.8888888888888891, f(c) = 0.010973936899862813\n",
      "n = 2, c = 0.8421052631578949, f(c) = 0.005399772129616065\n",
      "n = 3, c = 0.796785304247992, f(c) = 0.002203020416244428\n",
      "n = 4, c = 0.7655533526628087, f(c) = 0.0009669710403885645\n",
      "n = 5, c = 0.7411203540240782, f(c) = 0.0004127229640434882\n",
      "n = 6, c = 0.7229262275146178, f(c) = 0.000178069284412663\n",
      "n = 7, c = 0.7091194332075769, f(c) = 7.650996304064961e-5\n",
      "n = 8, c = 0.6987180509624937, f(c) = 3.292610616567604e-5\n",
      "n = 9, c = 0.6908601641064995, f(c) = 1.4161066591356075e-5\n",
      "n = 10, c = 0.6849301974472575, f(c) = 6.091920437989451e-6\n",
      "n = 11, c = 0.6804532819965489, f(c) = 2.6204324846679228e-6\n",
      "n = 12, c = 0.6770739084149917, f(c) = 1.1272154389896372e-6\n",
      "n = 13, c = 0.6745228512285835, f(c) = 4.848808504709368e-7\n",
      "n = 14, c = 0.6725971277812471, f(c) = 2.085765059556266e-7\n",
      "n = 15, c = 0.6711434384851674, f(c) = 8.972115939087644e-8\n",
      "n = 16, c = 0.6700460819689645, f(c) = 3.859443598042134e-8\n",
      "n = 17, c = 0.6692177117354121, f(c) = 1.6601769958768386e-8\n",
      "n = 18, c = 0.6685923936387071, f(c) = 7.141412794453572e-9\n",
      "n = 19, c = 0.6681203549430375, f(c) = 3.0719480292873413e-9\n",
      "n = 20, c = 0.6677640234781917, f(c) = 1.3214283001161675e-9\n",
      "n = 21, c = 0.6674950368029647, f(c) = 5.684250847792782e-10\n",
      "n = 22, c = 0.6672919848497244, f(c) = 2.445136315643026e-10\n",
      "n = 23, c = 0.6671387053963731, f(c) = 1.0517986481772823e-10\n",
      "n = 24, c = 0.6670229982525897, f(c) = 4.524414176643177e-11\n",
      "n = 25, c = 0.6669356535080833, f(c) = 1.9462209621678994e-11\n",
      "n = 26, c = 0.6668697188947504, f(c) = 8.371858761790918e-12\n",
      "n = 27, c = 0.6668199463242241, f(c) = 3.6013414472790828e-12\n",
      "n = 28, c = 0.6667823721976973, f(c) = 1.5489831639570184e-12\n",
      "n = 29, c = 0.6667540137527497, f(c) = 6.664668816824815e-13\n",
      "n = 30, c = 0.6667325977576534, f(c) = 2.866595849582154e-13\n",
      "n = 31, c = 0.6667164340337894, f(c) = 1.2323475573339238e-13\n",
      "n = 32, c = 0.6667042453561475, f(c) = 5.306866057708248e-14\n",
      "n = 33, c = 0.6666950267043866, f(c) = 2.275957200481571e-14\n",
      "n = 34, c = 0.6666881042735772, f(c) = 9.769962616701378e-15\n",
      "n = 35, c = 0.6666828976589513, f(c) = 4.3298697960381105e-15\n",
      "n = 36, c = 0.6666787536187389, f(c) = 1.7763568394002505e-15\n"
     ]
    },
    {
     "data": {
      "text/plain": [
       "(0.6666787536187389, [1.0, 0.888889, 0.842105, 0.796785, 0.765553, 0.74112, 0.722926, 0.709119, 0.698718, 0.69086  …  0.66682, 0.666782, 0.666754, 0.666733, 0.666716, 0.666704, 0.666695, 0.666688, 0.666683, 0.666679])"
      ]
     },
     "execution_count": 7,
     "metadata": {},
     "output_type": "execute_result"
    }
   ],
   "source": [
    "r,x = secantsearch(f, 0.0, 1.0,true)"
   ]
  },
  {
   "cell_type": "markdown",
   "metadata": {},
   "source": [
    "Hmmm, that's interesting. The secant method took 36 iterations before stopping on this $f(x)$, when it only took 7 iterations for $f(x) = x^2 - 4$. Also, `c` is still changing in the 5th digit between the last two iterations! It looks like we only have 5 or 6 digits of accuracy in our solution $r \\approx 0.66667$. That decimal expansion is pretty suggestive, though. Let's check $f(2/3)$"
   ]
  },
  {
   "cell_type": "code",
   "execution_count": 8,
   "metadata": {},
   "outputs": [
    {
     "data": {
      "text/plain": [
       "0.0"
      ]
     },
     "execution_count": 8,
     "metadata": {},
     "output_type": "execute_result"
    }
   ],
   "source": [
    "f(2/3)"
   ]
  },
  {
   "cell_type": "markdown",
   "metadata": {},
   "source": []
  }
 ],
 "metadata": {
  "kernelspec": {
   "display_name": "Julia 0.6.0",
   "language": "julia",
   "name": "julia-0.6"
  },
  "language_info": {
   "file_extension": ".jl",
   "mimetype": "application/julia",
   "name": "julia",
   "version": "0.6.0"
  }
 },
 "nbformat": 4,
 "nbformat_minor": 2
}
